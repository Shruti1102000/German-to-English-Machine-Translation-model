{
  "nbformat": 4,
  "nbformat_minor": 0,
  "metadata": {
    "colab": {
      "name": "Machine_Translation.ipynb",
      "provenance": [],
      "collapsed_sections": [],
      "toc_visible": true,
      "include_colab_link": true
    },
    "kernelspec": {
      "name": "python3",
      "display_name": "Python 3"
    },
    "accelerator": "GPU"
  },
  "cells": [
    {
      "cell_type": "markdown",
      "metadata": {
        "id": "view-in-github",
        "colab_type": "text"
      },
      "source": [
        "<a href=\"https://colab.research.google.com/github/Shruti1102000/German-to-English-Machine-Translation-model/blob/main/Machine_Translation.ipynb\" target=\"_parent\"><img src=\"https://colab.research.google.com/assets/colab-badge.svg\" alt=\"Open In Colab\"/></a>"
      ]
    },
    {
      "cell_type": "markdown",
      "metadata": {
        "id": "bHAD5GS7Voex"
      },
      "source": [
        "# **German English Translation using LSTM**"
      ]
    },
    {
      "cell_type": "markdown",
      "metadata": {
        "id": "i4hn-ZDTTcGk"
      },
      "source": [
        "Data Source : http://www.manythings.org/anki/"
      ]
    },
    {
      "cell_type": "markdown",
      "metadata": {
        "id": "FqtUfHTMVxaU"
      },
      "source": [
        "Parallel sentences : 50000"
      ]
    },
    {
      "cell_type": "markdown",
      "metadata": {
        "id": "CD08-qTSzLkL"
      },
      "source": [
        "# **Importing Necessory Libraries**"
      ]
    },
    {
      "cell_type": "code",
      "metadata": {
        "id": "ixdI3aN4_Ua1"
      },
      "source": [
        "import numpy as np\n",
        "import pandas as pd\n",
        "import tensorflow as tf\n",
        "from keras.models import Sequential\n",
        "from keras.layers import Dense, LSTM, Embedding, RepeatVector\n",
        "from keras.preprocessing.text import Tokenizer\n",
        "from keras.callbacks import ModelCheckpoint\n",
        "from keras.preprocessing.sequence import pad_sequences\n",
        "from keras.models import load_model\n",
        "from keras import optimizers\n",
        "import matplotlib.pyplot as plt\n",
        "%matplotlib inline\n",
        "pd.set_option('display.max_colwidth', 200)\n",
        "tf.compat.v1.logging.set_verbosity(tf.compat.v1.logging.ERROR)"
      ],
      "execution_count": null,
      "outputs": []
    },
    {
      "cell_type": "markdown",
      "metadata": {
        "id": "LWZToCQHzTSh"
      },
      "source": [
        "# **Loading Data file(s)**"
      ]
    },
    {
      "cell_type": "code",
      "metadata": {
        "id": "ukBTlswUh8SD"
      },
      "source": [
        "# opening the input files\n",
        "file = open('/content/deu.txt', mode='r', encoding='utf-8')\n",
        "        \n",
        "# reading all text\n",
        "text = file.read()\n",
        "\n",
        "# closing the file\n",
        "file.close()"
      ],
      "execution_count": null,
      "outputs": []
    },
    {
      "cell_type": "markdown",
      "metadata": {
        "id": "A-nTu95zzahZ"
      },
      "source": [
        "# **Spliting Text to Sentences**"
      ]
    },
    {
      "cell_type": "code",
      "metadata": {
        "id": "QYDm_WBevAHj"
      },
      "source": [
        "# split using '\\n' or newline character\n",
        "sentences = text.strip().split('\\n')\n",
        "    \n",
        "# split between english and german\n",
        "german_english = [i.split('\\t')[0:2] for i in sentences]\n",
        "\n",
        "# list to numpy array\n",
        "german_english = np.array(german_english)"
      ],
      "execution_count": null,
      "outputs": []
    },
    {
      "cell_type": "markdown",
      "metadata": {
        "id": "3lbyIXwvXB0y"
      },
      "source": [
        "## Parallel data"
      ]
    },
    {
      "cell_type": "code",
      "metadata": {
        "id": "BtSd2G1vXA1J"
      },
      "source": [
        "# actual file has over 1 lakh sentences but we will only 50000 for demonstration\n",
        "german_english = german_english[:50000,:]"
      ],
      "execution_count": null,
      "outputs": []
    },
    {
      "cell_type": "markdown",
      "metadata": {
        "id": "nqg5nSVTXOaX"
      },
      "source": [
        "# **Data Cleaning**"
      ]
    },
    {
      "cell_type": "code",
      "metadata": {
        "id": "ZwtkYEUtIYoi"
      },
      "source": [
        "# function to clean punctuations from text\n",
        "def clean(sentence):\n",
        "  punc = '''!()-[]{};:'\", <>./?@#$%^&*_~'''\n",
        "  for i in range(len(sentence)):  \n",
        "        if sentence[i] in punc:  \n",
        "            sentence =sentence.replace(sentence[i], \" \")  \n",
        "  return sentence\n",
        "\n",
        "for i in range(len(german_english)):\n",
        "  german_english[i,0]=clean(german_english[i,0])\n",
        "  german_english[i,1]=clean(german_english[i,1])"
      ],
      "execution_count": null,
      "outputs": []
    },
    {
      "cell_type": "markdown",
      "metadata": {
        "id": "WWhYOO6Bzg33"
      },
      "source": [
        "# **Data Transform**"
      ]
    },
    {
      "cell_type": "code",
      "metadata": {
        "id": "1SSbiVXivPc6"
      },
      "source": [
        "# transforming all uppercase character to lowercase to remove case sensitivity\n",
        "for i in range(len(german_english)):\n",
        "    german_english[i,0] = german_english[i,0].lower()\n",
        "    german_english[i,1] = german_english[i,1].lower()"
      ],
      "execution_count": null,
      "outputs": []
    },
    {
      "cell_type": "markdown",
      "metadata": {
        "id": "nLRMVkaL2XVK"
      },
      "source": [
        "# **Tokenization**"
      ]
    },
    {
      "cell_type": "code",
      "metadata": {
        "colab": {
          "base_uri": "https://localhost:8080/"
        },
        "id": "XQOZT5mMxNj7",
        "outputId": "f9a5a69d-d691-492f-87a1-4c1cb2a99878"
      },
      "source": [
        "# for English side data\n",
        "# initialising tokenizer\n",
        "eng_tokenizer = Tokenizer()\n",
        "# fitting data\n",
        "eng_tokenizer.fit_on_texts(german_english[:,0])\n",
        "# getting vocab size\n",
        "eng_vocab_size = len(eng_tokenizer.word_index) + 1\n",
        "\n",
        "eng_length = 8\n",
        "print('English Vocabulary Size: %d' % eng_vocab_size)\n",
        "\n",
        "# for German side data\n",
        "# initialising tokenizer\n",
        "german_tokenizer = Tokenizer()\n",
        "# fitting data\n",
        "german_tokenizer.fit_on_texts(german_english[:,1])\n",
        "# getting vocab size\n",
        "german_vocab_size = len(german_tokenizer.word_index) + 1\n",
        "\n",
        "german_length = 8\n",
        "print('german Vocabulary Size: %d' % german_vocab_size)"
      ],
      "execution_count": null,
      "outputs": [
        {
          "output_type": "stream",
          "text": [
            "English Vocabulary Size: 4241\n",
            "german Vocabulary Size: 6771\n"
          ],
          "name": "stdout"
        }
      ]
    },
    {
      "cell_type": "markdown",
      "metadata": {
        "id": "znGt13nQ16op"
      },
      "source": [
        "# **Splitting data into Train and Test Sets**"
      ]
    },
    {
      "cell_type": "code",
      "metadata": {
        "id": "N37ybVQ_xwWy"
      },
      "source": [
        "from sklearn.model_selection import train_test_split\n",
        "\n",
        "# split data into train and test set in 80:20 ratio\n",
        "train, test = train_test_split(german_english, test_size=0.2, random_state = 12)"
      ],
      "execution_count": null,
      "outputs": []
    },
    {
      "cell_type": "markdown",
      "metadata": {
        "id": "8DgAIUQW2gKA"
      },
      "source": [
        "# **Tokens to Sequences**"
      ]
    },
    {
      "cell_type": "code",
      "metadata": {
        "id": "T-AHILKtxtm7"
      },
      "source": [
        "# function to encode text into numbers\n",
        "def encode_sequences( tokenizer , length , lines):\n",
        "\n",
        "  seq = tokenizer.texts_to_sequences(lines)\n",
        "  \n",
        "  # pad sequences with 0 values to make all sequences of equal length\n",
        "  seq = pad_sequences(seq, maxlen=length, padding='post')\n",
        "\n",
        "  return seq"
      ],
      "execution_count": null,
      "outputs": []
    },
    {
      "cell_type": "code",
      "metadata": {
        "id": "PsPc1kFtx0xc"
      },
      "source": [
        "# prepare training data\n",
        "# german part\n",
        "trainX = encode_sequences(german_tokenizer, german_length, train[:, 1])\n",
        "\n",
        "# english part\n",
        "trainY = encode_sequences(eng_tokenizer, eng_length, train[:, 0])\n",
        "\n",
        "# prepare validation data\n",
        "# german part\n",
        "testX = encode_sequences(german_tokenizer, german_length, test[:, 1])\n",
        "\n",
        "# english part\n",
        "testY = encode_sequences(eng_tokenizer, eng_length, test[:, 0])"
      ],
      "execution_count": null,
      "outputs": []
    },
    {
      "cell_type": "markdown",
      "metadata": {
        "id": "-eGybsmL23QN"
      },
      "source": [
        "# **Modelling**"
      ]
    },
    {
      "cell_type": "markdown",
      "metadata": {
        "id": "xLmfR44S2ohX"
      },
      "source": [
        "## **Defining Model** "
      ]
    },
    {
      "cell_type": "code",
      "metadata": {
        "colab": {
          "base_uri": "https://localhost:8080/"
        },
        "id": "bHbO4hYzyNdL",
        "outputId": "acf05859-95d6-4ab7-ca72-084977ba7432"
      },
      "source": [
        "# model initialisation\n",
        "model = Sequential()\n",
        "\n",
        "# adding embedding layer\n",
        "model.add(Embedding(german_vocab_size, 256, input_length=german_length, mask_zero=True))\n",
        "\n",
        "# adding a LSTM layer\n",
        "model.add(LSTM(256))\n",
        "\n",
        "model.add(RepeatVector(eng_length))\n",
        "\n",
        "# adding a LSTM layer\n",
        "model.add(LSTM(256, return_sequences=True))\n",
        "\n",
        "# adding a dense layer to predict words in english\n",
        "model.add(Dense(eng_vocab_size, activation='softmax'))\n",
        "\n",
        "# view model details\n",
        "model.summary()"
      ],
      "execution_count": null,
      "outputs": [
        {
          "output_type": "stream",
          "text": [
            "Model: \"sequential\"\n",
            "_________________________________________________________________\n",
            "Layer (type)                 Output Shape              Param #   \n",
            "=================================================================\n",
            "embedding (Embedding)        (None, 8, 256)            1733376   \n",
            "_________________________________________________________________\n",
            "lstm (LSTM)                  (None, 256)               525312    \n",
            "_________________________________________________________________\n",
            "repeat_vector (RepeatVector) (None, 8, 256)            0         \n",
            "_________________________________________________________________\n",
            "lstm_1 (LSTM)                (None, 8, 256)            525312    \n",
            "_________________________________________________________________\n",
            "dense (Dense)                (None, 8, 4241)           1089937   \n",
            "=================================================================\n",
            "Total params: 3,873,937\n",
            "Trainable params: 3,873,937\n",
            "Non-trainable params: 0\n",
            "_________________________________________________________________\n"
          ],
          "name": "stdout"
        }
      ]
    },
    {
      "cell_type": "markdown",
      "metadata": {
        "id": "v0qyQVP02x9I"
      },
      "source": [
        "## **Compiling model**"
      ]
    },
    {
      "cell_type": "code",
      "metadata": {
        "id": "Wyd-PHt_yVJ0"
      },
      "source": [
        "# using adam optimizer with sparse categorical cross entropy as loss function\n",
        "model.compile(optimizer='adam', loss='sparse_categorical_crossentropy')"
      ],
      "execution_count": null,
      "outputs": []
    },
    {
      "cell_type": "markdown",
      "metadata": {
        "id": "dJzWlb5r3AqS"
      },
      "source": [
        "## **Training model**"
      ]
    },
    {
      "cell_type": "code",
      "metadata": {
        "colab": {
          "base_uri": "https://localhost:8080/"
        },
        "id": "ejJPkcZgyZId",
        "outputId": "5ee858db-d192-4f47-ea29-f82e509143f3"
      },
      "source": [
        "# path to save model\n",
        "filename = 'drive/My Drive/en-es-model'\n",
        "checkpoint = ModelCheckpoint(filename, monitor='val_loss', verbose=1, save_best_only=True, mode='min')\n",
        "\n",
        "# train model\n",
        "history = model.fit(trainX, trainY.reshape(trainY.shape[0], trainY.shape[1], 1),\n",
        "                    epochs=20, batch_size=100, validation_split = 0.2,callbacks=[checkpoint], verbose=1)"
      ],
      "execution_count": null,
      "outputs": [
        {
          "output_type": "stream",
          "text": [
            "Epoch 1/20\n",
            "167/167 [==============================] - 16s 34ms/step - loss: 4.6076 - val_loss: 2.7048\n",
            "\n",
            "Epoch 00001: val_loss improved from inf to 2.70475, saving model to drive/My Drive/en-es-model\n"
          ],
          "name": "stdout"
        },
        {
          "output_type": "stream",
          "text": [
            "WARNING:absl:Found untraced functions such as lstm_cell_layer_call_and_return_conditional_losses, lstm_cell_layer_call_fn, lstm_cell_1_layer_call_and_return_conditional_losses, lstm_cell_1_layer_call_fn, lstm_cell_layer_call_fn while saving (showing 5 of 10). These functions will not be directly callable after loading.\n",
            "WARNING:absl:Found untraced functions such as lstm_cell_layer_call_and_return_conditional_losses, lstm_cell_layer_call_fn, lstm_cell_1_layer_call_and_return_conditional_losses, lstm_cell_1_layer_call_fn, lstm_cell_layer_call_fn while saving (showing 5 of 10). These functions will not be directly callable after loading.\n"
          ],
          "name": "stderr"
        },
        {
          "output_type": "stream",
          "text": [
            "Epoch 2/20\n",
            "167/167 [==============================] - 4s 25ms/step - loss: 2.6360 - val_loss: 2.5470\n",
            "\n",
            "Epoch 00002: val_loss improved from 2.70475 to 2.54700, saving model to drive/My Drive/en-es-model\n"
          ],
          "name": "stdout"
        },
        {
          "output_type": "stream",
          "text": [
            "WARNING:absl:Found untraced functions such as lstm_cell_layer_call_and_return_conditional_losses, lstm_cell_layer_call_fn, lstm_cell_1_layer_call_and_return_conditional_losses, lstm_cell_1_layer_call_fn, lstm_cell_layer_call_fn while saving (showing 5 of 10). These functions will not be directly callable after loading.\n",
            "WARNING:absl:Found untraced functions such as lstm_cell_layer_call_and_return_conditional_losses, lstm_cell_layer_call_fn, lstm_cell_1_layer_call_and_return_conditional_losses, lstm_cell_1_layer_call_fn, lstm_cell_layer_call_fn while saving (showing 5 of 10). These functions will not be directly callable after loading.\n"
          ],
          "name": "stderr"
        },
        {
          "output_type": "stream",
          "text": [
            "Epoch 3/20\n",
            "167/167 [==============================] - 4s 25ms/step - loss: 2.4771 - val_loss: 2.4702\n",
            "\n",
            "Epoch 00003: val_loss improved from 2.54700 to 2.47020, saving model to drive/My Drive/en-es-model\n"
          ],
          "name": "stdout"
        },
        {
          "output_type": "stream",
          "text": [
            "WARNING:absl:Found untraced functions such as lstm_cell_layer_call_and_return_conditional_losses, lstm_cell_layer_call_fn, lstm_cell_1_layer_call_and_return_conditional_losses, lstm_cell_1_layer_call_fn, lstm_cell_layer_call_fn while saving (showing 5 of 10). These functions will not be directly callable after loading.\n",
            "WARNING:absl:Found untraced functions such as lstm_cell_layer_call_and_return_conditional_losses, lstm_cell_layer_call_fn, lstm_cell_1_layer_call_and_return_conditional_losses, lstm_cell_1_layer_call_fn, lstm_cell_layer_call_fn while saving (showing 5 of 10). These functions will not be directly callable after loading.\n"
          ],
          "name": "stderr"
        },
        {
          "output_type": "stream",
          "text": [
            "Epoch 4/20\n",
            "167/167 [==============================] - 4s 25ms/step - loss: 2.3743 - val_loss: 2.3741\n",
            "\n",
            "Epoch 00004: val_loss improved from 2.47020 to 2.37411, saving model to drive/My Drive/en-es-model\n"
          ],
          "name": "stdout"
        },
        {
          "output_type": "stream",
          "text": [
            "WARNING:absl:Found untraced functions such as lstm_cell_layer_call_and_return_conditional_losses, lstm_cell_layer_call_fn, lstm_cell_1_layer_call_and_return_conditional_losses, lstm_cell_1_layer_call_fn, lstm_cell_layer_call_fn while saving (showing 5 of 10). These functions will not be directly callable after loading.\n",
            "WARNING:absl:Found untraced functions such as lstm_cell_layer_call_and_return_conditional_losses, lstm_cell_layer_call_fn, lstm_cell_1_layer_call_and_return_conditional_losses, lstm_cell_1_layer_call_fn, lstm_cell_layer_call_fn while saving (showing 5 of 10). These functions will not be directly callable after loading.\n"
          ],
          "name": "stderr"
        },
        {
          "output_type": "stream",
          "text": [
            "Epoch 5/20\n",
            "167/167 [==============================] - 4s 25ms/step - loss: 2.2704 - val_loss: 2.2837\n",
            "\n",
            "Epoch 00005: val_loss improved from 2.37411 to 2.28371, saving model to drive/My Drive/en-es-model\n"
          ],
          "name": "stdout"
        },
        {
          "output_type": "stream",
          "text": [
            "WARNING:absl:Found untraced functions such as lstm_cell_layer_call_and_return_conditional_losses, lstm_cell_layer_call_fn, lstm_cell_1_layer_call_and_return_conditional_losses, lstm_cell_1_layer_call_fn, lstm_cell_layer_call_fn while saving (showing 5 of 10). These functions will not be directly callable after loading.\n",
            "WARNING:absl:Found untraced functions such as lstm_cell_layer_call_and_return_conditional_losses, lstm_cell_layer_call_fn, lstm_cell_1_layer_call_and_return_conditional_losses, lstm_cell_1_layer_call_fn, lstm_cell_layer_call_fn while saving (showing 5 of 10). These functions will not be directly callable after loading.\n"
          ],
          "name": "stderr"
        },
        {
          "output_type": "stream",
          "text": [
            "Epoch 6/20\n",
            "167/167 [==============================] - 4s 25ms/step - loss: 2.1712 - val_loss: 2.2130\n",
            "\n",
            "Epoch 00006: val_loss improved from 2.28371 to 2.21301, saving model to drive/My Drive/en-es-model\n"
          ],
          "name": "stdout"
        },
        {
          "output_type": "stream",
          "text": [
            "WARNING:absl:Found untraced functions such as lstm_cell_layer_call_and_return_conditional_losses, lstm_cell_layer_call_fn, lstm_cell_1_layer_call_and_return_conditional_losses, lstm_cell_1_layer_call_fn, lstm_cell_layer_call_fn while saving (showing 5 of 10). These functions will not be directly callable after loading.\n",
            "WARNING:absl:Found untraced functions such as lstm_cell_layer_call_and_return_conditional_losses, lstm_cell_layer_call_fn, lstm_cell_1_layer_call_and_return_conditional_losses, lstm_cell_1_layer_call_fn, lstm_cell_layer_call_fn while saving (showing 5 of 10). These functions will not be directly callable after loading.\n"
          ],
          "name": "stderr"
        },
        {
          "output_type": "stream",
          "text": [
            "Epoch 7/20\n",
            "167/167 [==============================] - 4s 25ms/step - loss: 2.0815 - val_loss: 2.1267\n",
            "\n",
            "Epoch 00007: val_loss improved from 2.21301 to 2.12669, saving model to drive/My Drive/en-es-model\n"
          ],
          "name": "stdout"
        },
        {
          "output_type": "stream",
          "text": [
            "WARNING:absl:Found untraced functions such as lstm_cell_layer_call_and_return_conditional_losses, lstm_cell_layer_call_fn, lstm_cell_1_layer_call_and_return_conditional_losses, lstm_cell_1_layer_call_fn, lstm_cell_layer_call_fn while saving (showing 5 of 10). These functions will not be directly callable after loading.\n",
            "WARNING:absl:Found untraced functions such as lstm_cell_layer_call_and_return_conditional_losses, lstm_cell_layer_call_fn, lstm_cell_1_layer_call_and_return_conditional_losses, lstm_cell_1_layer_call_fn, lstm_cell_layer_call_fn while saving (showing 5 of 10). These functions will not be directly callable after loading.\n"
          ],
          "name": "stderr"
        },
        {
          "output_type": "stream",
          "text": [
            "Epoch 8/20\n",
            "167/167 [==============================] - 4s 25ms/step - loss: 1.9859 - val_loss: 2.0440\n",
            "\n",
            "Epoch 00008: val_loss improved from 2.12669 to 2.04401, saving model to drive/My Drive/en-es-model\n"
          ],
          "name": "stdout"
        },
        {
          "output_type": "stream",
          "text": [
            "WARNING:absl:Found untraced functions such as lstm_cell_layer_call_and_return_conditional_losses, lstm_cell_layer_call_fn, lstm_cell_1_layer_call_and_return_conditional_losses, lstm_cell_1_layer_call_fn, lstm_cell_layer_call_fn while saving (showing 5 of 10). These functions will not be directly callable after loading.\n",
            "WARNING:absl:Found untraced functions such as lstm_cell_layer_call_and_return_conditional_losses, lstm_cell_layer_call_fn, lstm_cell_1_layer_call_and_return_conditional_losses, lstm_cell_1_layer_call_fn, lstm_cell_layer_call_fn while saving (showing 5 of 10). These functions will not be directly callable after loading.\n"
          ],
          "name": "stderr"
        },
        {
          "output_type": "stream",
          "text": [
            "Epoch 9/20\n",
            "167/167 [==============================] - 4s 25ms/step - loss: 1.8767 - val_loss: 1.9664\n",
            "\n",
            "Epoch 00009: val_loss improved from 2.04401 to 1.96645, saving model to drive/My Drive/en-es-model\n"
          ],
          "name": "stdout"
        },
        {
          "output_type": "stream",
          "text": [
            "WARNING:absl:Found untraced functions such as lstm_cell_layer_call_and_return_conditional_losses, lstm_cell_layer_call_fn, lstm_cell_1_layer_call_and_return_conditional_losses, lstm_cell_1_layer_call_fn, lstm_cell_layer_call_fn while saving (showing 5 of 10). These functions will not be directly callable after loading.\n",
            "WARNING:absl:Found untraced functions such as lstm_cell_layer_call_and_return_conditional_losses, lstm_cell_layer_call_fn, lstm_cell_1_layer_call_and_return_conditional_losses, lstm_cell_1_layer_call_fn, lstm_cell_layer_call_fn while saving (showing 5 of 10). These functions will not be directly callable after loading.\n"
          ],
          "name": "stderr"
        },
        {
          "output_type": "stream",
          "text": [
            "Epoch 10/20\n",
            "167/167 [==============================] - 4s 25ms/step - loss: 1.7722 - val_loss: 1.8930\n",
            "\n",
            "Epoch 00010: val_loss improved from 1.96645 to 1.89299, saving model to drive/My Drive/en-es-model\n"
          ],
          "name": "stdout"
        },
        {
          "output_type": "stream",
          "text": [
            "WARNING:absl:Found untraced functions such as lstm_cell_layer_call_and_return_conditional_losses, lstm_cell_layer_call_fn, lstm_cell_1_layer_call_and_return_conditional_losses, lstm_cell_1_layer_call_fn, lstm_cell_layer_call_fn while saving (showing 5 of 10). These functions will not be directly callable after loading.\n",
            "WARNING:absl:Found untraced functions such as lstm_cell_layer_call_and_return_conditional_losses, lstm_cell_layer_call_fn, lstm_cell_1_layer_call_and_return_conditional_losses, lstm_cell_1_layer_call_fn, lstm_cell_layer_call_fn while saving (showing 5 of 10). These functions will not be directly callable after loading.\n"
          ],
          "name": "stderr"
        },
        {
          "output_type": "stream",
          "text": [
            "Epoch 11/20\n",
            "167/167 [==============================] - 4s 24ms/step - loss: 1.6841 - val_loss: 1.8242\n",
            "\n",
            "Epoch 00011: val_loss improved from 1.89299 to 1.82419, saving model to drive/My Drive/en-es-model\n"
          ],
          "name": "stdout"
        },
        {
          "output_type": "stream",
          "text": [
            "WARNING:absl:Found untraced functions such as lstm_cell_layer_call_and_return_conditional_losses, lstm_cell_layer_call_fn, lstm_cell_1_layer_call_and_return_conditional_losses, lstm_cell_1_layer_call_fn, lstm_cell_layer_call_fn while saving (showing 5 of 10). These functions will not be directly callable after loading.\n",
            "WARNING:absl:Found untraced functions such as lstm_cell_layer_call_and_return_conditional_losses, lstm_cell_layer_call_fn, lstm_cell_1_layer_call_and_return_conditional_losses, lstm_cell_1_layer_call_fn, lstm_cell_layer_call_fn while saving (showing 5 of 10). These functions will not be directly callable after loading.\n"
          ],
          "name": "stderr"
        },
        {
          "output_type": "stream",
          "text": [
            "Epoch 12/20\n",
            "167/167 [==============================] - 5s 27ms/step - loss: 1.5875 - val_loss: 1.7665\n",
            "\n",
            "Epoch 00012: val_loss improved from 1.82419 to 1.76651, saving model to drive/My Drive/en-es-model\n"
          ],
          "name": "stdout"
        },
        {
          "output_type": "stream",
          "text": [
            "WARNING:absl:Found untraced functions such as lstm_cell_layer_call_and_return_conditional_losses, lstm_cell_layer_call_fn, lstm_cell_1_layer_call_and_return_conditional_losses, lstm_cell_1_layer_call_fn, lstm_cell_layer_call_fn while saving (showing 5 of 10). These functions will not be directly callable after loading.\n",
            "WARNING:absl:Found untraced functions such as lstm_cell_layer_call_and_return_conditional_losses, lstm_cell_layer_call_fn, lstm_cell_1_layer_call_and_return_conditional_losses, lstm_cell_1_layer_call_fn, lstm_cell_layer_call_fn while saving (showing 5 of 10). These functions will not be directly callable after loading.\n"
          ],
          "name": "stderr"
        },
        {
          "output_type": "stream",
          "text": [
            "Epoch 13/20\n",
            "167/167 [==============================] - 4s 27ms/step - loss: 1.5075 - val_loss: 1.7146\n",
            "\n",
            "Epoch 00013: val_loss improved from 1.76651 to 1.71459, saving model to drive/My Drive/en-es-model\n"
          ],
          "name": "stdout"
        },
        {
          "output_type": "stream",
          "text": [
            "WARNING:absl:Found untraced functions such as lstm_cell_layer_call_and_return_conditional_losses, lstm_cell_layer_call_fn, lstm_cell_1_layer_call_and_return_conditional_losses, lstm_cell_1_layer_call_fn, lstm_cell_layer_call_fn while saving (showing 5 of 10). These functions will not be directly callable after loading.\n",
            "WARNING:absl:Found untraced functions such as lstm_cell_layer_call_and_return_conditional_losses, lstm_cell_layer_call_fn, lstm_cell_1_layer_call_and_return_conditional_losses, lstm_cell_1_layer_call_fn, lstm_cell_layer_call_fn while saving (showing 5 of 10). These functions will not be directly callable after loading.\n"
          ],
          "name": "stderr"
        },
        {
          "output_type": "stream",
          "text": [
            "Epoch 14/20\n",
            "167/167 [==============================] - 4s 27ms/step - loss: 1.4352 - val_loss: 1.6695\n",
            "\n",
            "Epoch 00014: val_loss improved from 1.71459 to 1.66953, saving model to drive/My Drive/en-es-model\n"
          ],
          "name": "stdout"
        },
        {
          "output_type": "stream",
          "text": [
            "WARNING:absl:Found untraced functions such as lstm_cell_layer_call_and_return_conditional_losses, lstm_cell_layer_call_fn, lstm_cell_1_layer_call_and_return_conditional_losses, lstm_cell_1_layer_call_fn, lstm_cell_layer_call_fn while saving (showing 5 of 10). These functions will not be directly callable after loading.\n",
            "WARNING:absl:Found untraced functions such as lstm_cell_layer_call_and_return_conditional_losses, lstm_cell_layer_call_fn, lstm_cell_1_layer_call_and_return_conditional_losses, lstm_cell_1_layer_call_fn, lstm_cell_layer_call_fn while saving (showing 5 of 10). These functions will not be directly callable after loading.\n"
          ],
          "name": "stderr"
        },
        {
          "output_type": "stream",
          "text": [
            "Epoch 15/20\n",
            "167/167 [==============================] - 4s 26ms/step - loss: 1.3598 - val_loss: 1.6243\n",
            "\n",
            "Epoch 00015: val_loss improved from 1.66953 to 1.62427, saving model to drive/My Drive/en-es-model\n"
          ],
          "name": "stdout"
        },
        {
          "output_type": "stream",
          "text": [
            "WARNING:absl:Found untraced functions such as lstm_cell_layer_call_and_return_conditional_losses, lstm_cell_layer_call_fn, lstm_cell_1_layer_call_and_return_conditional_losses, lstm_cell_1_layer_call_fn, lstm_cell_layer_call_fn while saving (showing 5 of 10). These functions will not be directly callable after loading.\n",
            "WARNING:absl:Found untraced functions such as lstm_cell_layer_call_and_return_conditional_losses, lstm_cell_layer_call_fn, lstm_cell_1_layer_call_and_return_conditional_losses, lstm_cell_1_layer_call_fn, lstm_cell_layer_call_fn while saving (showing 5 of 10). These functions will not be directly callable after loading.\n"
          ],
          "name": "stderr"
        },
        {
          "output_type": "stream",
          "text": [
            "Epoch 16/20\n",
            "167/167 [==============================] - 4s 25ms/step - loss: 1.2898 - val_loss: 1.5827\n",
            "\n",
            "Epoch 00016: val_loss improved from 1.62427 to 1.58272, saving model to drive/My Drive/en-es-model\n"
          ],
          "name": "stdout"
        },
        {
          "output_type": "stream",
          "text": [
            "WARNING:absl:Found untraced functions such as lstm_cell_layer_call_and_return_conditional_losses, lstm_cell_layer_call_fn, lstm_cell_1_layer_call_and_return_conditional_losses, lstm_cell_1_layer_call_fn, lstm_cell_layer_call_fn while saving (showing 5 of 10). These functions will not be directly callable after loading.\n",
            "WARNING:absl:Found untraced functions such as lstm_cell_layer_call_and_return_conditional_losses, lstm_cell_layer_call_fn, lstm_cell_1_layer_call_and_return_conditional_losses, lstm_cell_1_layer_call_fn, lstm_cell_layer_call_fn while saving (showing 5 of 10). These functions will not be directly callable after loading.\n"
          ],
          "name": "stderr"
        },
        {
          "output_type": "stream",
          "text": [
            "Epoch 17/20\n",
            "167/167 [==============================] - 4s 25ms/step - loss: 1.2188 - val_loss: 1.5349\n",
            "\n",
            "Epoch 00017: val_loss improved from 1.58272 to 1.53487, saving model to drive/My Drive/en-es-model\n"
          ],
          "name": "stdout"
        },
        {
          "output_type": "stream",
          "text": [
            "WARNING:absl:Found untraced functions such as lstm_cell_layer_call_and_return_conditional_losses, lstm_cell_layer_call_fn, lstm_cell_1_layer_call_and_return_conditional_losses, lstm_cell_1_layer_call_fn, lstm_cell_layer_call_fn while saving (showing 5 of 10). These functions will not be directly callable after loading.\n",
            "WARNING:absl:Found untraced functions such as lstm_cell_layer_call_and_return_conditional_losses, lstm_cell_layer_call_fn, lstm_cell_1_layer_call_and_return_conditional_losses, lstm_cell_1_layer_call_fn, lstm_cell_layer_call_fn while saving (showing 5 of 10). These functions will not be directly callable after loading.\n"
          ],
          "name": "stderr"
        },
        {
          "output_type": "stream",
          "text": [
            "Epoch 18/20\n",
            "167/167 [==============================] - 4s 25ms/step - loss: 1.1468 - val_loss: 1.4957\n",
            "\n",
            "Epoch 00018: val_loss improved from 1.53487 to 1.49568, saving model to drive/My Drive/en-es-model\n"
          ],
          "name": "stdout"
        },
        {
          "output_type": "stream",
          "text": [
            "WARNING:absl:Found untraced functions such as lstm_cell_layer_call_and_return_conditional_losses, lstm_cell_layer_call_fn, lstm_cell_1_layer_call_and_return_conditional_losses, lstm_cell_1_layer_call_fn, lstm_cell_layer_call_fn while saving (showing 5 of 10). These functions will not be directly callable after loading.\n",
            "WARNING:absl:Found untraced functions such as lstm_cell_layer_call_and_return_conditional_losses, lstm_cell_layer_call_fn, lstm_cell_1_layer_call_and_return_conditional_losses, lstm_cell_1_layer_call_fn, lstm_cell_layer_call_fn while saving (showing 5 of 10). These functions will not be directly callable after loading.\n"
          ],
          "name": "stderr"
        },
        {
          "output_type": "stream",
          "text": [
            "Epoch 19/20\n",
            "167/167 [==============================] - 4s 25ms/step - loss: 1.0693 - val_loss: 1.4601\n",
            "\n",
            "Epoch 00019: val_loss improved from 1.49568 to 1.46007, saving model to drive/My Drive/en-es-model\n"
          ],
          "name": "stdout"
        },
        {
          "output_type": "stream",
          "text": [
            "WARNING:absl:Found untraced functions such as lstm_cell_layer_call_and_return_conditional_losses, lstm_cell_layer_call_fn, lstm_cell_1_layer_call_and_return_conditional_losses, lstm_cell_1_layer_call_fn, lstm_cell_layer_call_fn while saving (showing 5 of 10). These functions will not be directly callable after loading.\n",
            "WARNING:absl:Found untraced functions such as lstm_cell_layer_call_and_return_conditional_losses, lstm_cell_layer_call_fn, lstm_cell_1_layer_call_and_return_conditional_losses, lstm_cell_1_layer_call_fn, lstm_cell_layer_call_fn while saving (showing 5 of 10). These functions will not be directly callable after loading.\n"
          ],
          "name": "stderr"
        },
        {
          "output_type": "stream",
          "text": [
            "Epoch 20/20\n",
            "167/167 [==============================] - 4s 25ms/step - loss: 1.0080 - val_loss: 1.4295\n",
            "\n",
            "Epoch 00020: val_loss improved from 1.46007 to 1.42949, saving model to drive/My Drive/en-es-model\n"
          ],
          "name": "stdout"
        },
        {
          "output_type": "stream",
          "text": [
            "WARNING:absl:Found untraced functions such as lstm_cell_layer_call_and_return_conditional_losses, lstm_cell_layer_call_fn, lstm_cell_1_layer_call_and_return_conditional_losses, lstm_cell_1_layer_call_fn, lstm_cell_layer_call_fn while saving (showing 5 of 10). These functions will not be directly callable after loading.\n",
            "WARNING:absl:Found untraced functions such as lstm_cell_layer_call_and_return_conditional_losses, lstm_cell_layer_call_fn, lstm_cell_1_layer_call_and_return_conditional_losses, lstm_cell_1_layer_call_fn, lstm_cell_layer_call_fn while saving (showing 5 of 10). These functions will not be directly callable after loading.\n"
          ],
          "name": "stderr"
        }
      ]
    },
    {
      "cell_type": "markdown",
      "metadata": {
        "id": "UuHg64qq3ERg"
      },
      "source": [
        "## **Training performance**"
      ]
    },
    {
      "cell_type": "code",
      "metadata": {
        "colab": {
          "base_uri": "https://localhost:8080/",
          "height": 265
        },
        "id": "DJbM4r5eyfJZ",
        "outputId": "2d9f0a8f-5be6-4496-b4f3-86f493033bec"
      },
      "source": [
        "# viewing model training progress \n",
        "\n",
        "plt.plot(history.history['loss'])\n",
        "plt.plot(history.history['val_loss'])\n",
        "plt.legend(['train','validation'])\n",
        "plt.show()"
      ],
      "execution_count": null,
      "outputs": [
        {
          "output_type": "display_data",
          "data": {
            "image/png": "[encoded data removed]",
            "text/plain": [
              "<Figure size 432x288 with 1 Axes>"
            ]
          },
          "metadata": {
            "tags": [],
            "needs_background": "light"
          }
        }
      ]
    },
    {
      "cell_type": "markdown",
      "metadata": {
        "id": "7j_DCKL33M5F"
      },
      "source": [
        "# **Prediction on Test data**"
      ]
    },
    {
      "cell_type": "code",
      "metadata": {
        "id": "lFE5Hn86yjAQ"
      },
      "source": [
        "# load trained model\n",
        "model = load_model('drive/My Drive/en-es-model')\n",
        "\n",
        "# list to store predictions\n",
        "preds_list=[]\n",
        "\n",
        "# predicting for 500 test sentences\n",
        "for i in range(500):\n",
        "  # predict function return the probabilities for target vobabularies\n",
        "  # argmax return the index having the maximum value\n",
        "  preds_list.append(np.argmax(model.predict(testX[i]), axis=-1))"
      ],
      "execution_count": null,
      "outputs": []
    },
    {
      "cell_type": "markdown",
      "metadata": {
        "id": "GQF6nul13hDH"
      },
      "source": [
        "## **Decoding predictions**"
      ]
    },
    {
      "cell_type": "code",
      "metadata": {
        "id": "zWF-O5Liy3wf"
      },
      "source": [
        "# function to map numbers to word in english language\n",
        "def get_word(n, tokenizer):\n",
        "      for word, index in tokenizer.word_index.items():\n",
        "          if index == n:\n",
        "              return word\n",
        "      return None"
      ],
      "execution_count": null,
      "outputs": []
    },
    {
      "cell_type": "code",
      "metadata": {
        "id": "nkiiiMaqzHVN"
      },
      "source": [
        "# to store predicted texts\n",
        "preds_text = []\n",
        "\n",
        "# to traverse predicted values\n",
        "for preds in preds_list:\n",
        "\n",
        "  # to store predicted sentence\n",
        "  sentence=''\n",
        "\n",
        "  # iterating through each sequence\n",
        "  for i in preds:\n",
        "        # to store words \n",
        "        temp = []\n",
        "        for j in range(len(i)):\n",
        "              t = get_word(i[j], eng_tokenizer)\n",
        "              if j > 0:\n",
        "                  if (t == get_word(i[j-1], eng_tokenizer)) or (t == None):\n",
        "                      temp.append('')\n",
        "                  else:\n",
        "                      temp.append(t)\n",
        "              else:\n",
        "                    if(t == None):\n",
        "                            temp.append('')\n",
        "                    else:\n",
        "                            temp.append(t)\n",
        "        # forming by combining words\n",
        "        sentence=sentence+' '+str.strip(' '.join(temp))\n",
        "        \n",
        "  # adding predicted sentences to list\n",
        "  preds_text.append(sentence)"
      ],
      "execution_count": null,
      "outputs": []
    },
    {
      "cell_type": "markdown",
      "metadata": {
        "id": "6TdqOC4C3obn"
      },
      "source": [
        "## **Model accuracy using BLEU Score**"
      ]
    },
    {
      "cell_type": "code",
      "metadata": {
        "colab": {
          "base_uri": "https://localhost:8080/",
          "height": 514
        },
        "id": "2VcErAgi3uZ-",
        "outputId": "70474e76-4f2d-472b-b199-839b9970607b"
      },
      "source": [
        "# viewing predictions\n",
        "pred_df = pd.DataFrame({'actual' : test[:500,0], 'predicted' : preds_text[:500]})\n",
        "pred_df.sample(15)"
      ],
      "execution_count": null,
      "outputs": [
        {
          "output_type": "execute_result",
          "data": {
            "text/html": [
              "<div>\n",
              "<style scoped>\n",
              "    .dataframe tbody tr th:only-of-type {\n",
              "        vertical-align: middle;\n",
              "    }\n",
              "\n",
              "    .dataframe tbody tr th {\n",
              "        vertical-align: top;\n",
              "    }\n",
              "\n",
              "    .dataframe thead th {\n",
              "        text-align: right;\n",
              "    }\n",
              "</style>\n",
              "<table border=\"1\" class=\"dataframe\">\n",
              "  <thead>\n",
              "    <tr style=\"text-align: right;\">\n",
              "      <th></th>\n",
              "      <th>actual</th>\n",
              "      <th>predicted</th>\n",
              "    </tr>\n",
              "  </thead>\n",
              "  <tbody>\n",
              "    <tr>\n",
              "      <th>365</th>\n",
              "      <td>tom passed out</td>\n",
              "      <td>tom are was i congratulations congratulations congratulations congratulations congratulations</td>\n",
              "    </tr>\n",
              "    <tr>\n",
              "      <th>136</th>\n",
              "      <td>tom isn t hurt</td>\n",
              "      <td>tom is tom congratulations congratulations congratulations congratulations congratulations</td>\n",
              "    </tr>\n",
              "    <tr>\n",
              "      <th>481</th>\n",
              "      <td>i get up at 6 30</td>\n",
              "      <td>i go it are re here is we us go congratulations</td>\n",
              "    </tr>\n",
              "    <tr>\n",
              "      <th>214</th>\n",
              "      <td>your dog bit me</td>\n",
              "      <td>go the tom it me a congratulations congratulations congratulations</td>\n",
              "    </tr>\n",
              "    <tr>\n",
              "      <th>46</th>\n",
              "      <td>tom s free</td>\n",
              "      <td>tom is take fry merry aid congratulations congratulations congratulations congratulations congratulations</td>\n",
              "    </tr>\n",
              "    <tr>\n",
              "      <th>376</th>\n",
              "      <td>tom is the winner</td>\n",
              "      <td>tom is it up go congratulations congratulations congratulations congratulations</td>\n",
              "    </tr>\n",
              "    <tr>\n",
              "      <th>188</th>\n",
              "      <td>i have brothers</td>\n",
              "      <td>i get up they congratulations congratulations congratulations congratulations congratulations</td>\n",
              "    </tr>\n",
              "    <tr>\n",
              "      <th>470</th>\n",
              "      <td>they re free</td>\n",
              "      <td>you are you take fry merry aid congratulations congratulations congratulations congratulations congratulations</td>\n",
              "    </tr>\n",
              "    <tr>\n",
              "      <th>132</th>\n",
              "      <td>i won t deny it</td>\n",
              "      <td>i forget it don t forget congratulations congratulations congratulations</td>\n",
              "    </tr>\n",
              "    <tr>\n",
              "      <th>49</th>\n",
              "      <td>tom got very sick</td>\n",
              "      <td>tom are was get a sleeping happy congratulations congratulations congratulations congratulations</td>\n",
              "    </tr>\n",
              "    <tr>\n",
              "      <th>397</th>\n",
              "      <td>you re not dead</td>\n",
              "      <td>you are you don t we congratulations congratulations congratulations congratulations</td>\n",
              "    </tr>\n",
              "    <tr>\n",
              "      <th>293</th>\n",
              "      <td>tom insulted mary</td>\n",
              "      <td>tom it mary was you congratulations congratulations congratulations congratulations</td>\n",
              "    </tr>\n",
              "    <tr>\n",
              "      <th>489</th>\n",
              "      <td>tom helps us</td>\n",
              "      <td>tom does it we congratulations congratulations congratulations congratulations congratulations</td>\n",
              "    </tr>\n",
              "    <tr>\n",
              "      <th>386</th>\n",
              "      <td>we go way back</td>\n",
              "      <td>we lost do we it go congratulations congratulations congratulations</td>\n",
              "    </tr>\n",
              "    <tr>\n",
              "      <th>139</th>\n",
              "      <td>whose tea is this</td>\n",
              "      <td>here you i is it congratulations congratulations congratulations congratulations</td>\n",
              "    </tr>\n",
              "  </tbody>\n",
              "</table>\n",
              "</div>"
            ],
            "text/plain": [
              "                 actual                                                                                                        predicted\n",
              "365     tom passed out                     tom are was i congratulations congratulations congratulations congratulations congratulations\n",
              "136     tom isn t hurt                        tom is tom congratulations congratulations congratulations congratulations congratulations\n",
              "481   i get up at 6 30                                                                   i go it are re here is we us go congratulations\n",
              "214    your dog bit me                                                go the tom it me a congratulations congratulations congratulations\n",
              "46          tom s free         tom is take fry merry aid congratulations congratulations congratulations congratulations congratulations\n",
              "376  tom is the winner                                   tom is it up go congratulations congratulations congratulations congratulations\n",
              "188    i have brothers                     i get up they congratulations congratulations congratulations congratulations congratulations\n",
              "470       they re free    you are you take fry merry aid congratulations congratulations congratulations congratulations congratulations\n",
              "132    i won t deny it                                          i forget it don t forget congratulations congratulations congratulations\n",
              "49   tom got very sick                  tom are was get a sleeping happy congratulations congratulations congratulations congratulations\n",
              "397    you re not dead                              you are you don t we congratulations congratulations congratulations congratulations\n",
              "293  tom insulted mary                               tom it mary was you congratulations congratulations congratulations congratulations\n",
              "489       tom helps us                    tom does it we congratulations congratulations congratulations congratulations congratulations\n",
              "386     we go way back                                               we lost do we it go congratulations congratulations congratulations\n",
              "139  whose tea is this                                  here you i is it congratulations congratulations congratulations congratulations"
            ]
          },
          "metadata": {
            "tags": []
          },
          "execution_count": 18
        }
      ]
    },
    {
      "cell_type": "markdown",
      "metadata": {
        "id": "rJZvfo7Ex3lo"
      },
      "source": [
        "# **Model Accuracy using BLEU Score**"
      ]
    },
    {
      "cell_type": "code",
      "metadata": {
        "colab": {
          "base_uri": "https://localhost:8080/"
        },
        "id": "k_VDNTIJOuWY",
        "outputId": "21e2bee1-298f-40ee-fc01-a3b2653959b8"
      },
      "source": [
        "import nltk\n",
        "\n",
        "BLEU = 0\n",
        "\n",
        "for i in range(500):\n",
        "  BLEU += nltk.translate.bleu_score.sentence_bleu([test[i,0]], preds_text[i])\n",
        "\n",
        "BLEU/=500\n",
        "\n",
        "print(\"BLEU Score achieved is :\",BLEU*100)"
      ],
      "execution_count": null,
      "outputs": [
        {
          "output_type": "stream",
          "text": [
            "BLEU Score achieved is : 28.05049373532334\n"
          ],
          "name": "stdout"
        },
        {
          "output_type": "stream",
          "text": [
            "/usr/local/lib/python3.6/dist-packages/nltk/translate/bleu_score.py:490: UserWarning: \n",
            "Corpus/Sentence contains 0 counts of 4-gram overlaps.\n",
            "BLEU scores might be undesirable; use SmoothingFunction().\n",
            "  warnings.warn(_msg)\n",
            "/usr/local/lib/python3.6/dist-packages/nltk/translate/bleu_score.py:490: UserWarning: \n",
            "Corpus/Sentence contains 0 counts of 3-gram overlaps.\n",
            "BLEU scores might be undesirable; use SmoothingFunction().\n",
            "  warnings.warn(_msg)\n",
            "/usr/local/lib/python3.6/dist-packages/nltk/translate/bleu_score.py:490: UserWarning: \n",
            "Corpus/Sentence contains 0 counts of 2-gram overlaps.\n",
            "BLEU scores might be undesirable; use SmoothingFunction().\n",
            "  warnings.warn(_msg)\n"
          ],
          "name": "stderr"
        }
      ]
    }
  ]
}